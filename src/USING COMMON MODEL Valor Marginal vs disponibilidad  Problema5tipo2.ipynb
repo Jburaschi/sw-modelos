{
 "cells": [
  {
   "cell_type": "code",
   "execution_count": null,
   "id": "bf341062",
   "metadata": {},
   "outputs": [
    {
     "name": "stdout",
     "output_type": "stream",
     "text": [
      "Model: produccion_pullover\n",
      " - number of variables: 5\n",
      "   - binary=0, integer=0, continuous=5\n",
      " - number of constraints: 15\n",
      "   - linear=15\n",
      " - parameters: defaults\n",
      " - objective: maximize\n",
      " - problem type is: LP\n",
      "--------------------\n",
      "Model: produccion_pullover\n",
      "Constraints:\n",
      "   LanaMejoradaDisp: 1.600A+1.200C <= 20\n",
      "   LanaNormalDisp: 1.800B <= 36\n",
      "   RelB: B == B1+B2\n",
      "   MaquinasDisp1: 5A+6B1 <= 80\n",
      "   MaquinasDisp2: 4B2+4C <= 80\n",
      "   DemandMin_B: B >= 10\n",
      "Objective: 10A+15B+18C\n",
      " Maximize\n",
      "--------------------\n",
      "* Production model solved with objective: 550\n",
      "* Total benefit=550\n",
      "Production of A: 0\n",
      "Production of B: 16.666666666666664\n",
      "Production of B1: 13.333333333333332\n",
      "Production of B2: 3.333333333333332\n",
      "Production of C: 16.666666666666668\n"
     ]
    }
   ],
   "source": [
    "# Cargar los datos y obtener el modelo\n",
    "from data_and_model_construction.data import create_data_dict\n",
    "from data_and_model_construction.common_model import create_model, solve_model, print_model\n",
    "from plot_kind.vm_vs_disp import VM\n",
    "\n",
    "data = create_data_dict()\n",
    "mdl, production_vars, products = create_model(data)\n",
    "print_model(mdl)\n",
    "solve_model(mdl, production_vars, products)"
   ]
  },
  {
   "cell_type": "code",
   "execution_count": null,
   "id": "e1717cbe",
   "metadata": {},
   "outputs": [
    {
     "name": "stdout",
     "output_type": "stream",
     "text": [
      "[debug] (lower, upper): (-1e+20, 16.666666666666664)\n",
      "---\n",
      "- Adjusting RHS to: 16.676666666666666\n",
      "* Production model solved with objective: 549.97\n",
      "* Total benefit=549.97\n",
      "Production of A: 0\n",
      "Production of B: 16.676666666666666\n",
      "Production of B1: 13.333333333333332\n",
      "Production of B2: 3.3433333333333337\n",
      "Production of C: 16.656666666666666\n",
      "---\n",
      "- Adjusting RHS to: 20.0\n",
      "* Production model solved with objective: 540\n",
      "* Total benefit=540\n",
      "Production of A: 0\n",
      "Production of B: 20.0\n",
      "Production of B1: 13.333333333333332\n",
      "Production of B2: 6.666666666666668\n",
      "Production of C: 13.333333333333332\n",
      "---\n",
      "- Adjusting RHS to: 20.01\n",
      "No solution found for RHS value: 20.01\n"
     ]
    }
   ],
   "source": [
    "# Usage of the iterate_over_rhs method\n",
    "constraint_nameX = 'DemandMin_B'  # The name of the constraint X to analyze\n",
    "\n",
    "vm = VM(mdl, products, production_vars)\n",
    "current_rhs_value, rhs_values, dual_values = vm.iterate(constraint_nameX)"
   ]
  },
  {
   "cell_type": "code",
   "execution_count": null,
   "id": "1525d48a",
   "metadata": {},
   "outputs": [
    {
     "name": "stdout",
     "output_type": "stream",
     "text": [
      "[debug] current_x_value: 10\n"
     ]
    },
    {
     "data": {
      "text/plain": [
       "<Figure size 640x480 with 1 Axes>"
      ]
     },
     "metadata": {},
     "output_type": "display_data"
    },
    {
     "data": {
      "text/plain": [
       "<Figure size 2000x1000 with 0 Axes>"
      ]
     },
     "metadata": {},
     "output_type": "display_data"
    }
   ],
   "source": [
    "# Graficamos\n",
    "vm.plot(constraint_nameX,\"[hs/mes]\", \"[$/un]\")"
   ]
  },
  {
   "cell_type": "markdown",
   "id": "9e2e7080",
   "metadata": {},
   "source": [
    "# Más ejecuciones"
   ]
  },
  {
   "cell_type": "markdown",
   "id": "76d389bd",
   "metadata": {},
   "source": [
    "Serán agregadas después, de ejemplo"
   ]
  }
 ],
 "metadata": {
  "language_info": {
   "name": "python",
   "pygments_lexer": "ipython3"
  }
 },
 "nbformat": 4,
 "nbformat_minor": 5
}
