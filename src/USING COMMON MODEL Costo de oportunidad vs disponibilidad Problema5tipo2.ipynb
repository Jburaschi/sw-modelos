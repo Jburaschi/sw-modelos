{
 "cells": [
  {
   "cell_type": "code",
   "execution_count": null,
   "id": "5f64678b",
   "metadata": {},
   "outputs": [
    {
     "name": "stdout",
     "output_type": "stream",
     "text": [
      "Model: produccion_pullover\n",
      " - number of variables: 5\n",
      "   - binary=0, integer=0, continuous=5\n",
      " - number of constraints: 15\n",
      "   - linear=15\n",
      " - parameters: defaults\n",
      " - objective: maximize\n",
      " - problem type is: LP\n",
      "* Production model solved with objective: 550\n",
      "* Total benefit=550\n",
      "Production of A: 0\n",
      "Production of B: 16.666666666666664\n",
      "Production of B1: 13.333333333333332\n",
      "Production of B2: 3.333333333333332\n",
      "Production of C: 16.666666666666668\n"
     ]
    }
   ],
   "source": [
    "# Cargar los datos y obtener el modelo\n",
    "from data_and_model_construction.data import create_data_dict\n",
    "from data_and_model_construction.common_model import create_model, solve_model\n",
    "from plot_kind.costo_op_vs_disp import CostoOportunidad\n",
    "\n",
    "data = create_data_dict()\n",
    "mdl, production_vars, products = create_model(data)\n",
    "solve_model(mdl, production_vars, products)\n"
   ]
  },
  {
   "cell_type": "code",
   "execution_count": null,
   "id": "6bab410a",
   "metadata": {},
   "outputs": [
    {
     "name": "stdout",
     "output_type": "stream",
     "text": [
      "Demanda mínima encontrada para el producto B.\n",
      "[debug] (lower, upper): (-1e+20, 16.666666666666664)\n",
      "---\n",
      "- Adjusting RHS to: 16.676666666666666\n",
      "* Production model solved with objective: 549.97\n",
      "* Total benefit=549.97\n",
      "Production of A: 0\n",
      "Production of B: 16.676666666666666\n",
      "Production of B1: 13.333333333333332\n",
      "Production of B2: 3.3433333333333337\n",
      "Production of C: 16.656666666666666\n"
     ]
    },
    {
     "name": "stdout",
     "output_type": "stream",
     "text": [
      "---\n",
      "- Adjusting RHS to: 20.0\n",
      "* Production model solved with objective: 540\n",
      "* Total benefit=540\n",
      "Production of A: 0\n",
      "Production of B: 20.0\n",
      "Production of B1: 13.333333333333332\n",
      "Production of B2: 6.666666666666668\n",
      "Production of C: 13.333333333333332\n",
      "---\n",
      "- Adjusting RHS to: 20.01\n",
      "No solution found for RHS value: 20.01\n"
     ]
    }
   ],
   "source": [
    "# Usage of the iterate_over_rhs method, checking whether there exists demmin or not\n",
    "constraint_nameX = 'DemandMin_B'  # The name of the constraint to analyze\n",
    "product_name=\"B\"\n",
    "\n",
    "costo_op = CostoOportunidad(mdl, products, production_vars)\n",
    "current_rhs_value, rhs_values, dual_values = costo_op.iterate(constraint_nameX, product_name)"
   ]
  },
  {
   "cell_type": "code",
   "execution_count": null,
   "id": "55b40eb3",
   "metadata": {},
   "outputs": [
    {
     "name": "stdout",
     "output_type": "stream",
     "text": [
      "[debug] current_x_value: 10\n"
     ]
    },
    {
     "data": {
      "text/plain": [
       "<Figure size 640x480 with 1 Axes>"
      ]
     },
     "metadata": {},
     "output_type": "display_data"
    },
    {
     "data": {
      "text/plain": [
       "<Figure size 2000x1000 with 0 Axes>"
      ]
     },
     "metadata": {},
     "output_type": "display_data"
    }
   ],
   "source": [
    "costo_op.plot(constraint_nameX, product_name, \"[un/semana]\", \"[$/un]\")"
   ]
  },
  {
   "cell_type": "code",
   "execution_count": null,
   "id": "85142ae9",
   "metadata": {},
   "outputs": [],
   "source": []
  }
 ],
 "metadata": {
  "language_info": {
   "name": "python",
   "pygments_lexer": "ipython3"
  }
 },
 "nbformat": 4,
 "nbformat_minor": 5
}
