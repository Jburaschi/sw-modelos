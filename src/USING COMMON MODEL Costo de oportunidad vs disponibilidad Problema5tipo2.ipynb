{
 "cells": [
  {
   "cell_type": "code",
   "execution_count": null,
   "id": "5f64678b",
   "metadata": {},
   "outputs": [
    {
     "name": "stdout",
     "output_type": "stream",
     "text": [
      "Model: produccion_pullover\n",
      " - number of variables: 5\n",
      "   - binary=0, integer=0, continuous=5\n",
      " - number of constraints: 15\n",
      "   - linear=15\n",
      " - parameters: defaults\n",
      " - objective: maximize\n",
      " - problem type is: LP\n",
      "* Production model solved with objective: 550\n",
      "* Total benefit=550\n",
      "Production of A: 0\n",
      "Production of B: 16.666666666666664\n",
      "Production of B1: 13.333333333333332\n",
      "Production of B2: 3.333333333333332\n",
      "Production of C: 16.666666666666668\n"
     ]
    }
   ],
   "source": [
    "# Cargar los datos y obtener el modelo\n",
    "from data_and_model_construction.data import create_data_dict\n",
    "from data_and_model_construction.common_model import create_model, solve_model\n",
    "from plot_kind.costo_op_vs_disp import CostoOportunidad\n",
    "\n",
    "data = create_data_dict()\n",
    "mdl, production_vars, products = create_model(data)\n",
    "solve_model(mdl, production_vars, products)\n"
   ]
  },
  {
   "cell_type": "code",
   "execution_count": null,
   "id": "6bab410a",
   "metadata": {},
   "outputs": [
    {
     "name": "stdout",
     "output_type": "stream",
     "text": [
      "Demanda mínima encontrada para el producto B.\n",
      "[debug] (lower, upper): (-1e+20, 16.666666666666664)\n",
      "---\n",
      "- Adjusting RHS to: 16.676666666666666\n",
      "* Production model solved with objective: 549.97\n",
      "* Total benefit=549.97\n",
      "Production of A: 0\n",
      "Production of B: 16.676666666666666\n",
      "Production of B1: 13.333333333333332\n",
      "Production of B2: 3.3433333333333337\n",
      "Production of C: 16.656666666666666\n",
      "---\n",
      "- Adjusting RHS to: 20.0\n",
      "* Production model solved with objective: 540\n",
      "* Total benefit=540\n",
      "Production of A: 0\n",
      "Production of B: 20.0\n",
      "Production of B1: 13.333333333333332\n",
      "Production of B2: 6.666666666666668\n",
      "Production of C: 13.333333333333332\n",
      "---\n",
      "- Adjusting RHS to: 20.01\n",
      "No solution found for RHS value: 20.01\n"
     ]
    }
   ],
   "source": [
    "# Usage of the iterate_over_rhs method, checking whether there exists demmin or not\n",
    "constraint_nameX = 'DemandMin_B'  # The name of the constraint to analyze\n",
    "product_name=\"B\"\n",
    "\n",
    "costo_op = CostoOportunidad(mdl, products, production_vars)\n",
    "current_rhs_value, rhs_values, dual_values = costo_op.iterate(constraint_nameX, product_name)"
   ]
  },
  {
   "cell_type": "code",
   "execution_count": null,
   "id": "55b40eb3",
   "metadata": {},
   "outputs": [
    {
     "name": "stdout",
     "output_type": "stream",
     "text": [
      "[debug] current_x_value: 10\n"
     ]
    },
    {
     "data": {
      "text/plain": [
       "<Figure size 640x480 with 1 Axes>"
      ]
     },
     "metadata": {},
     "output_type": "display_data"
    },
    {
     "data": {
      "text/plain": [
       "<Figure size 2000x1000 with 0 Axes>"
      ]
     },
     "metadata": {},
     "output_type": "display_data"
    }
   ],
   "source": [
    "costo_op.plot(constraint_nameX, product_name, \"[hs/mes]\", \"[$/un]\")"
   ]
  },
  {
   "cell_type": "code",
   "execution_count": null,
   "id": "85142ae9",
   "metadata": {},
   "outputs": [
    {
     "name": "stdout",
     "output_type": "stream",
     "text": [
      "Demanda mínima No encontrada para el producto A.\n"
     ]
    },
    {
     "ename": "CplexSolverError",
     "evalue": "CPLEX Error  1217: No solution exists.",
     "output_type": "error",
     "traceback": [
      "\u001b[0;31m---------------------------------------------------------------------------\u001b[0m",
      "\u001b[0;31mCplexSolverError\u001b[0m                          Traceback (most recent call last)",
      "Cell \u001b[0;32mIn[6], line 6\u001b[0m\n\u001b[1;32m      3\u001b[0m product_name\u001b[38;5;241m=\u001b[39m\u001b[38;5;124m\"\u001b[39m\u001b[38;5;124mA\u001b[39m\u001b[38;5;124m\"\u001b[39m\n\u001b[1;32m      5\u001b[0m costo_op \u001b[38;5;241m=\u001b[39m CostoOportunidad(mdl, products, production_vars)\n\u001b[0;32m----> 6\u001b[0m current_rhs_value, rhs_values, dual_values \u001b[38;5;241m=\u001b[39m \u001b[43mcosto_op\u001b[49m\u001b[38;5;241;43m.\u001b[39;49m\u001b[43miterate\u001b[49m\u001b[43m(\u001b[49m\u001b[43mconstraint_nameX\u001b[49m\u001b[43m,\u001b[49m\u001b[43m \u001b[49m\u001b[43mproduct_name\u001b[49m\u001b[43m)\u001b[49m\n",
      "File \u001b[0;32m~/Modelos/Tps/sw-modelos/src/plot_kind/costo_op_vs_disp.py:37\u001b[0m, in \u001b[0;36mCostoOportunidad.iterate\u001b[0;34m(self, constraint_nameX, product_name)\u001b[0m\n\u001b[1;32m     36\u001b[0m \u001b[38;5;28;01mdef\u001b[39;00m\u001b[38;5;250m \u001b[39m\u001b[38;5;21miterate\u001b[39m(\u001b[38;5;28mself\u001b[39m, constraint_nameX, product_name):\n\u001b[0;32m---> 37\u001b[0m     \u001b[38;5;28mself\u001b[39m\u001b[38;5;241m.\u001b[39mcurrent_rhs_value, \u001b[38;5;28mself\u001b[39m\u001b[38;5;241m.\u001b[39mrhs_values, \u001b[38;5;28mself\u001b[39m\u001b[38;5;241m.\u001b[39mdual_values \u001b[38;5;241m=\u001b[39m \u001b[38;5;28;43mself\u001b[39;49m\u001b[38;5;241;43m.\u001b[39;49m\u001b[43miterate_over_rhs_checking_prod_min_dem\u001b[49m\u001b[43m(\u001b[49m\u001b[43mconstraint_nameX\u001b[49m\u001b[43m,\u001b[49m\u001b[43m \u001b[49m\u001b[43mproduct_name\u001b[49m\u001b[43m,\u001b[49m\u001b[43m \u001b[49m\u001b[38;5;28;43mself\u001b[39;49m\u001b[38;5;241;43m.\u001b[39;49m\u001b[43mproducts\u001b[49m\u001b[43m,\u001b[49m\u001b[43m \u001b[49m\u001b[38;5;28;43mself\u001b[39;49m\u001b[38;5;241;43m.\u001b[39;49m\u001b[43mproduction_vars\u001b[49m\u001b[43m,\u001b[49m\u001b[43m \u001b[49m\u001b[38;5;28;43mself\u001b[39;49m\u001b[38;5;241;43m.\u001b[39;49m\u001b[43mmdl\u001b[49m\u001b[43m)\u001b[49m\n\u001b[1;32m     39\u001b[0m     \u001b[38;5;28;01mreturn\u001b[39;00m \u001b[38;5;28mself\u001b[39m\u001b[38;5;241m.\u001b[39mcurrent_rhs_value, \u001b[38;5;28mself\u001b[39m\u001b[38;5;241m.\u001b[39mrhs_values, \u001b[38;5;28mself\u001b[39m\u001b[38;5;241m.\u001b[39mdual_values\n",
      "File \u001b[0;32m~/Modelos/Tps/sw-modelos/src/plot_kind/costo_op_vs_disp.py:77\u001b[0m, in \u001b[0;36mCostoOportunidad.iterate_over_rhs_checking_prod_min_dem\u001b[0;34m(self, constraint_nameX, product_name, products, production_vars, mdl)\u001b[0m\n\u001b[1;32m     74\u001b[0m     \u001b[38;5;28mself\u001b[39m\u001b[38;5;241m.\u001b[39m_prod_var \u001b[38;5;241m=\u001b[39m prod_var_or_min_dem_constraint \u001b[38;5;66;03m# []\u001b[39;00m\n\u001b[1;32m     76\u001b[0m iterator \u001b[38;5;241m=\u001b[39m RhsIterator(products, production_vars, constraint_nameX, prod_var_or_min_dem_constraint)\n\u001b[0;32m---> 77\u001b[0m \u001b[38;5;28;01mreturn\u001b[39;00m \u001b[43miterator\u001b[49m\u001b[38;5;241;43m.\u001b[39;49m\u001b[43miterate_over_rhs\u001b[49m\u001b[43m(\u001b[49m\u001b[43mmdl\u001b[49m\u001b[43m,\u001b[49m\u001b[43m \u001b[49m\u001b[43mget_y_function\u001b[49m\u001b[43m)\u001b[49m\n",
      "File \u001b[0;32m~/Modelos/Tps/sw-modelos/src/iterators/rhs_iterator.py:67\u001b[0m, in \u001b[0;36mRhsIterator.iterate_over_rhs\u001b[0;34m(self, mdl, get_y_function)\u001b[0m\n\u001b[1;32m     61\u001b[0m c \u001b[38;5;241m=\u001b[39m get_constraint_by_name(\u001b[38;5;28mself\u001b[39m\u001b[38;5;241m.\u001b[39mconstraint_nameX, mdl)        \n\u001b[1;32m     63\u001b[0m \u001b[38;5;66;03m# Hago esto acá afuera, porque la obtención del punto actual depende de 'c' y el mismo\u001b[39;00m\n\u001b[1;32m     64\u001b[0m \u001b[38;5;66;03m# debe agregarse a la lista en el momento dado (entre lower y upper iniciales).\u001b[39;00m\n\u001b[1;32m     65\u001b[0m \n\u001b[1;32m     66\u001b[0m \u001b[38;5;66;03m# Obtengo lower y upper iniciales\u001b[39;00m\n\u001b[0;32m---> 67\u001b[0m _initial_lower, _initial_upper \u001b[38;5;241m=\u001b[39m \u001b[38;5;28;43mself\u001b[39;49m\u001b[38;5;241;43m.\u001b[39;49m\u001b[43mperform_sensitivity_analysis\u001b[49m\u001b[43m(\u001b[49m\u001b[43mmdl\u001b[49m\u001b[43m)\u001b[49m\n\u001b[1;32m     68\u001b[0m \u001b[38;5;66;03m#print(\"[debug] (lower, upper):\", (initial_lower, initial_upper)) \u001b[39;00m\n\u001b[1;32m     69\u001b[0m \n\u001b[1;32m     70\u001b[0m \u001b[38;5;66;03m# Obtengo punto actual\u001b[39;00m\n\u001b[1;32m     71\u001b[0m current_rhs_value \u001b[38;5;241m=\u001b[39m c\u001b[38;5;241m.\u001b[39mrhs\u001b[38;5;241m.\u001b[39mconstant\n",
      "File \u001b[0;32m~/Modelos/Tps/sw-modelos/src/iterators/rhs_iterator.py:28\u001b[0m, in \u001b[0;36mRhsIterator.perform_sensitivity_analysis\u001b[0;34m(self, mdl)\u001b[0m\n\u001b[1;32m     25\u001b[0m lp\u001b[38;5;241m.\u001b[39msolve()\n\u001b[1;32m     26\u001b[0m cpx \u001b[38;5;241m=\u001b[39m lp\u001b[38;5;241m.\u001b[39mget_engine()\u001b[38;5;241m.\u001b[39mget_cplex()\n\u001b[0;32m---> 28\u001b[0m rhs\u001b[38;5;241m=\u001b[39m\u001b[43mcpx\u001b[49m\u001b[38;5;241;43m.\u001b[39;49m\u001b[43msolution\u001b[49m\u001b[38;5;241;43m.\u001b[39;49m\u001b[43msensitivity\u001b[49m\u001b[38;5;241;43m.\u001b[39;49m\u001b[43mrhs\u001b[49m\u001b[43m(\u001b[49m\u001b[43m)\u001b[49m\n\u001b[1;32m     29\u001b[0m names \u001b[38;5;241m=\u001b[39m cpx\u001b[38;5;241m.\u001b[39mlinear_constraints\u001b[38;5;241m.\u001b[39mget_names()\n\u001b[1;32m     30\u001b[0m \u001b[38;5;66;03m#print(\"[DEBUG] NOMBRES DE LAS RESTRICCIONES:\\n\", names)\u001b[39;00m\n",
      "File \u001b[0;32m~/ILOG/CPLEX_Studio_Community221/cplex/python/3.10/x86-64_linux/cplex/_internal/_subinterfaces.py:5303\u001b[0m, in \u001b[0;36mSensitivityInterface.rhs\u001b[0;34m(self, *args)\u001b[0m\n\u001b[1;32m   5301\u001b[0m \u001b[38;5;28;01mdef\u001b[39;00m\u001b[38;5;250m \u001b[39m\u001b[38;5;21msa\u001b[39m(a, b\u001b[38;5;241m=\u001b[39m\u001b[38;5;28mself\u001b[39m\u001b[38;5;241m.\u001b[39m_cplex\u001b[38;5;241m.\u001b[39mlinear_constraints\u001b[38;5;241m.\u001b[39mget_num() \u001b[38;5;241m-\u001b[39m \u001b[38;5;241m1\u001b[39m):\n\u001b[1;32m   5302\u001b[0m     \u001b[38;5;28;01mreturn\u001b[39;00m unzip(CPX_PROC\u001b[38;5;241m.\u001b[39mrhssa(\u001b[38;5;28mself\u001b[39m\u001b[38;5;241m.\u001b[39m_env\u001b[38;5;241m.\u001b[39m_e, \u001b[38;5;28mself\u001b[39m\u001b[38;5;241m.\u001b[39m_cplex\u001b[38;5;241m.\u001b[39m_lp, a, b))\n\u001b[0;32m-> 5303\u001b[0m \u001b[38;5;28;01mreturn\u001b[39;00m \u001b[43mapply_freeform_two_args\u001b[49m\u001b[43m(\u001b[49m\n\u001b[1;32m   5304\u001b[0m \u001b[43m    \u001b[49m\u001b[43msa\u001b[49m\u001b[43m,\u001b[49m\u001b[43m \u001b[49m\u001b[38;5;28;43mself\u001b[39;49m\u001b[38;5;241;43m.\u001b[39;49m\u001b[43m_cplex\u001b[49m\u001b[38;5;241;43m.\u001b[39;49m\u001b[43mlinear_constraints\u001b[49m\u001b[38;5;241;43m.\u001b[39;49m\u001b[43m_conv\u001b[49m\u001b[43m,\u001b[49m\u001b[43m \u001b[49m\u001b[43margs\u001b[49m\u001b[43m)\u001b[49m\n",
      "File \u001b[0;32m~/ILOG/CPLEX_Studio_Community221/cplex/python/3.10/x86-64_linux/cplex/_internal/_aux_functions.py:155\u001b[0m, in \u001b[0;36mapply_freeform_two_args\u001b[0;34m(fn, conv, args, unpack_single)\u001b[0m\n\u001b[1;32m    153\u001b[0m     \u001b[38;5;28;01mraise\u001b[39;00m \u001b[38;5;167;01mTypeError\u001b[39;00m(\u001b[38;5;124m\"\u001b[39m\u001b[38;5;124mexpecting name or index\u001b[39m\u001b[38;5;124m\"\u001b[39m)\n\u001b[1;32m    154\u001b[0m \u001b[38;5;28;01melif\u001b[39;00m nargs \u001b[38;5;241m==\u001b[39m \u001b[38;5;241m0\u001b[39m:\n\u001b[0;32m--> 155\u001b[0m     \u001b[38;5;28;01mreturn\u001b[39;00m \u001b[43mfn\u001b[49m\u001b[43m(\u001b[49m\u001b[38;5;241;43m0\u001b[39;49m\u001b[43m)\u001b[49m\n\u001b[1;32m    156\u001b[0m \u001b[38;5;28;01mraise\u001b[39;00m WrongNumberOfArgumentsError()\n",
      "File \u001b[0;32m~/ILOG/CPLEX_Studio_Community221/cplex/python/3.10/x86-64_linux/cplex/_internal/_subinterfaces.py:5302\u001b[0m, in \u001b[0;36mSensitivityInterface.rhs.<locals>.sa\u001b[0;34m(a, b)\u001b[0m\n\u001b[1;32m   5301\u001b[0m \u001b[38;5;28;01mdef\u001b[39;00m\u001b[38;5;250m \u001b[39m\u001b[38;5;21msa\u001b[39m(a, b\u001b[38;5;241m=\u001b[39m\u001b[38;5;28mself\u001b[39m\u001b[38;5;241m.\u001b[39m_cplex\u001b[38;5;241m.\u001b[39mlinear_constraints\u001b[38;5;241m.\u001b[39mget_num() \u001b[38;5;241m-\u001b[39m \u001b[38;5;241m1\u001b[39m):\n\u001b[0;32m-> 5302\u001b[0m     \u001b[38;5;28;01mreturn\u001b[39;00m unzip(\u001b[43mCPX_PROC\u001b[49m\u001b[38;5;241;43m.\u001b[39;49m\u001b[43mrhssa\u001b[49m\u001b[43m(\u001b[49m\u001b[38;5;28;43mself\u001b[39;49m\u001b[38;5;241;43m.\u001b[39;49m\u001b[43m_env\u001b[49m\u001b[38;5;241;43m.\u001b[39;49m\u001b[43m_e\u001b[49m\u001b[43m,\u001b[49m\u001b[43m \u001b[49m\u001b[38;5;28;43mself\u001b[39;49m\u001b[38;5;241;43m.\u001b[39;49m\u001b[43m_cplex\u001b[49m\u001b[38;5;241;43m.\u001b[39;49m\u001b[43m_lp\u001b[49m\u001b[43m,\u001b[49m\u001b[43m \u001b[49m\u001b[43ma\u001b[49m\u001b[43m,\u001b[49m\u001b[43m \u001b[49m\u001b[43mb\u001b[49m\u001b[43m)\u001b[49m)\n",
      "File \u001b[0;32m~/ILOG/CPLEX_Studio_Community221/cplex/python/3.10/x86-64_linux/cplex/_internal/_procedural.py:2331\u001b[0m, in \u001b[0;36mrhssa\u001b[0;34m(env, lp, begin, end)\u001b[0m\n\u001b[1;32m   2329\u001b[0m upper \u001b[38;5;241m=\u001b[39m _safeDoubleArray(listlen)\n\u001b[1;32m   2330\u001b[0m status \u001b[38;5;241m=\u001b[39m CR\u001b[38;5;241m.\u001b[39mCPXXrhssa(env, lp, begin, end, lower, upper)\n\u001b[0;32m-> 2331\u001b[0m \u001b[43mcheck_status\u001b[49m\u001b[43m(\u001b[49m\u001b[43menv\u001b[49m\u001b[43m,\u001b[49m\u001b[43m \u001b[49m\u001b[43mstatus\u001b[49m\u001b[43m)\u001b[49m\n\u001b[1;32m   2332\u001b[0m \u001b[38;5;28;01mreturn\u001b[39;00m (LAU\u001b[38;5;241m.\u001b[39marray_to_list(lower, listlen),\n\u001b[1;32m   2333\u001b[0m         LAU\u001b[38;5;241m.\u001b[39marray_to_list(upper, listlen))\n",
      "File \u001b[0;32m~/ILOG/CPLEX_Studio_Community221/cplex/python/3.10/x86-64_linux/cplex/_internal/_procedural.py:249\u001b[0m, in \u001b[0;36mStatusChecker.__call__\u001b[0;34m(self, env, status, from_cb)\u001b[0m\n\u001b[1;32m    247\u001b[0m     \u001b[38;5;28;01melse\u001b[39;00m:\n\u001b[1;32m    248\u001b[0m         error_string \u001b[38;5;241m=\u001b[39m geterrorstring(env, status)\n\u001b[0;32m--> 249\u001b[0m \u001b[38;5;28;01mraise\u001b[39;00m CplexSolverError(error_string, env, status)\n",
      "\u001b[0;31mCplexSolverError\u001b[0m: CPLEX Error  1217: No solution exists."
     ]
    }
   ],
   "source": []
  }
 ],
 "metadata": {
  "language_info": {
   "name": "python",
   "pygments_lexer": "ipython3"
  }
 },
 "nbformat": 4,
 "nbformat_minor": 5
}
